{
 "cells": [
  {
   "cell_type": "code",
   "execution_count": 19,
   "id": "23e78892",
   "metadata": {},
   "outputs": [],
   "source": [
    "import requests\n",
    "import numpy as np\n",
    "import pandas as pd\n",
    "import matplotlib.pyplot as plt\n",
    "%matplotlib inline"
   ]
  },
  {
   "cell_type": "code",
   "execution_count": 20,
   "id": "9422cdff",
   "metadata": {},
   "outputs": [],
   "source": [
    "endpoints = {\n",
    "    'time': 'timezone',\n",
    "    'countries': 'countries',\n",
    "    'leagues': 'leagues',\n",
    "    'league_seasons': 'leagues/seasons',\n",
    "    'teams': 'teams',\n",
    "    'teams_stats': '/teams/statistics',\n",
    "    'teams_seasons': 'teams/seasons',\n",
    "    'teams_countries': 'teams/countries',\n",
    "    'venues': 'venues',\n",
    "    'standings': 'standings',\n",
    "    'fixture_rounds': 'fixtures/rounds',\n",
    "    'fixtures': 'fixtures',\n",
    "    'fixture_h2h': 'fixtures/headtohead',\n",
    "    'fixture_stats': 'fixtures/statistics',\n",
    "    'fixture_events': 'fixtures/events',\n",
    "    'fixture_lineups': 'fixtures/lineups',\n",
    "    'fixture_players': 'fixtures/players',\n",
    "    'injuries': 'injuries',\n",
    "    'predictions': 'predictions',\n",
    "    'coaches': 'coachs',\n",
    "    'player_seasons': 'players/seasons',\n",
    "    'players': 'players',\n",
    "    'player_squads': 'players/squads',\n",
    "    'top_scorers': 'players/topscorers',\n",
    "    'top_assists': 'players/topassists',\n",
    "    'top_yellowcards': 'players/topyellowcards',\n",
    "    'top_redcards': 'players/topredcards',\n",
    "    'transfers': 'transfers',\n",
    "    'trophies': 'trophies',\n",
    "    'sidelined': 'sidelined',\n",
    "    'live_odds': 'odds/live',\n",
    "    'live_bets': 'odds/live/bets',\n",
    "    'odds': 'odds',\n",
    "    'odds_mapping': 'odds/mapping',\n",
    "    'bookmakers': 'odds/bookmakers',\n",
    "    'bets': 'odds/bets'\n",
    "}"
   ]
  },
  {
   "cell_type": "code",
   "execution_count": 21,
   "id": "bbb59ba8",
   "metadata": {},
   "outputs": [],
   "source": [
    "endpoint = endpoints['teams_stats']\n",
    "league = 71 # Brasileirão Série A  \n",
    "season = 2023\n",
    "team = 121\n",
    "api_key = '24a878eeab42a1c1481949d97e97d3a8'"
   ]
  },
  {
   "cell_type": "code",
   "execution_count": 22,
   "id": "3794b43d",
   "metadata": {},
   "outputs": [
    {
     "name": "stdout",
     "output_type": "stream",
     "text": [
      "{\"get\":\"teams\\/statistics\",\"parameters\":{\"league\":\"71\",\"season\":\"2023\",\"team\":\"121\"},\"errors\":{\"access\":\"Your account is suspended, check on https:\\/\\/dasboard.api-football.com.\"},\"results\":0,\"paging\":{\"current\":1,\"total\":1},\"response\":[]}\n"
     ]
    }
   ],
   "source": [
    "url1 = f'https://v3.football.api-sports.io/{endpoint}?league={league}&season={season}'\n",
    "\n",
    "url2 = f'https://v3.football.api-sports.io/{endpoint}?league={league}&season={season}&team={team}'\n",
    "\n",
    "headers = {\n",
    "    'x-rapidapi-host': \"v3.football.api-sports.io\",\n",
    "    'x-rapidapi-key': api_key\n",
    "}\n",
    "\n",
    "response = requests.get(url2, headers=headers)\n",
    "print(response.text)\n",
    "\n",
    "# api_data = requests.get(url2, headers=headers).json()\n",
    "# print(api_data['response'])"
   ]
  },
  {
   "cell_type": "code",
   "execution_count": 18,
   "id": "225332f8",
   "metadata": {},
   "outputs": [
    {
     "data": {
      "text/html": [
       "<div>\n",
       "<style scoped>\n",
       "    .dataframe tbody tr th:only-of-type {\n",
       "        vertical-align: middle;\n",
       "    }\n",
       "\n",
       "    .dataframe tbody tr th {\n",
       "        vertical-align: top;\n",
       "    }\n",
       "\n",
       "    .dataframe thead th {\n",
       "        text-align: right;\n",
       "    }\n",
       "</style>\n",
       "<table border=\"1\" class=\"dataframe\">\n",
       "  <thead>\n",
       "    <tr style=\"text-align: right;\">\n",
       "      <th></th>\n",
       "    </tr>\n",
       "  </thead>\n",
       "  <tbody>\n",
       "  </tbody>\n",
       "</table>\n",
       "</div>"
      ],
      "text/plain": [
       "Empty DataFrame\n",
       "Columns: []\n",
       "Index: []"
      ]
     },
     "execution_count": 18,
     "metadata": {},
     "output_type": "execute_result"
    }
   ],
   "source": [
    "df = pd.json_normalize(api_data['response'])\n",
    "df"
   ]
  },
  {
   "cell_type": "code",
   "execution_count": null,
   "id": "1a9b2e07",
   "metadata": {},
   "outputs": [],
   "source": []
  },
  {
   "cell_type": "code",
   "execution_count": null,
   "id": "047dffe1",
   "metadata": {},
   "outputs": [],
   "source": []
  },
  {
   "cell_type": "code",
   "execution_count": null,
   "id": "0256959f",
   "metadata": {},
   "outputs": [],
   "source": []
  },
  {
   "cell_type": "code",
   "execution_count": null,
   "id": "39bd1261",
   "metadata": {},
   "outputs": [],
   "source": []
  },
  {
   "cell_type": "code",
   "execution_count": null,
   "id": "c74eaaa7",
   "metadata": {},
   "outputs": [],
   "source": []
  },
  {
   "cell_type": "code",
   "execution_count": null,
   "id": "100567e2",
   "metadata": {},
   "outputs": [],
   "source": [
    "endpoint = endpoints['teams_stats']\n",
    "league = 71 # Brasileirão Série A  \n",
    "season = 2023\n",
    "team_id1 = 121\n",
    "team_id2 = 131\n",
    "api_key = '24a878eeab42a1c1481949d97e97d3a8'"
   ]
  },
  {
   "cell_type": "code",
   "execution_count": null,
   "id": "906bb441",
   "metadata": {},
   "outputs": [],
   "source": [
    "# url1 = f'https://v3.football.api-sports.io/{endpoint}?league={league}&season={season}'\n",
    "\n",
    "url1 = f'https://v3.football.api-sports.io/{endpoint}?league={league}&season={season}&team={team_id1}'\n",
    "url2 = f'https://v3.football.api-sports.io/{endpoint}?league={league}&season={season}&team={team_id2}'\n",
    "\n",
    "headers = {\n",
    "    'x-rapidapi-host': \"v3.football.api-sports.io\",\n",
    "    'x-rapidapi-key': api_key\n",
    "}\n",
    "\n",
    "# response = requests.get(url, headers=headers)\n",
    "# print(response.text)\n",
    "\n",
    "api_data1 = requests.get(url1, headers=headers).json()\n",
    "api_data2 = requests.get(url2, headers=headers).json()\n",
    "# print(api_data['response'])"
   ]
  },
  {
   "cell_type": "code",
   "execution_count": null,
   "id": "a5bceb72",
   "metadata": {},
   "outputs": [],
   "source": [
    "df1 = pd.json_normalize(api_data1['response'])\n",
    "df2 = pd.json_normalize(api_data2['response'])\n",
    "\n",
    "# Concatenate the dataframes in the row direction\n",
    "df = pd.concat([df1, df2], axis=0, ignore_index=True)\n",
    "df"
   ]
  }
 ],
 "metadata": {
  "kernelspec": {
   "display_name": "Python 3 (ipykernel)",
   "language": "python",
   "name": "python3"
  },
  "language_info": {
   "codemirror_mode": {
    "name": "ipython",
    "version": 3
   },
   "file_extension": ".py",
   "mimetype": "text/x-python",
   "name": "python",
   "nbconvert_exporter": "python",
   "pygments_lexer": "ipython3",
   "version": "3.10.6"
  },
  "toc": {
   "base_numbering": 1,
   "nav_menu": {},
   "number_sections": true,
   "sideBar": true,
   "skip_h1_title": false,
   "title_cell": "Table of Contents",
   "title_sidebar": "Contents",
   "toc_cell": false,
   "toc_position": {},
   "toc_section_display": true,
   "toc_window_display": false
  }
 },
 "nbformat": 4,
 "nbformat_minor": 5
}
