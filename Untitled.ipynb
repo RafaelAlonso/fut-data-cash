{
 "cells": [
  {
   "cell_type": "code",
   "execution_count": 1,
   "id": "9b3eafb8",
   "metadata": {},
   "outputs": [],
   "source": [
    "import requests\n",
    "import numpy as np\n",
    "import pandas as pd\n",
    "import matplotlib.pyplot as plt\n",
    "%matplotlib inline"
   ]
  },
  {
   "cell_type": "code",
   "execution_count": null,
   "id": "0e60064d",
   "metadata": {},
   "outputs": [],
   "source": [
    "league = 71 # Brasileirão Série A  \n",
    "season = 2023\n",
    "api_key = '24a878eeab42a1c1481949d97e97d3a8'"
   ]
  },
  {
   "cell_type": "code",
   "execution_count": null,
   "id": "6e70de7f",
   "metadata": {},
   "outputs": [],
   "source": [
    "url = f'https://v3.football.api-sports.io/players?league={league}&season={season}'\n",
    "headers = {\n",
    "    'x-rapidapi-host': \"v3.football.api-sports.io\",\n",
    "    'x-rapidapi-key': api_key\n",
    "}\n",
    "\n",
    "response = requests.get(url, headers=headers)\n",
    "\n",
    "print(response.text)"
   ]
  },
  {
   "cell_type": "code",
   "execution_count": null,
   "id": "910ae066",
   "metadata": {},
   "outputs": [],
   "source": [
    "players = []\n",
    "\n",
    "for player in api_data['response']:\n",
    "    player.append(player['player'])\n",
    "\n",
    "\n",
    "#teams"
   ]
  },
  {
   "cell_type": "code",
   "execution_count": null,
   "id": "8319dd79",
   "metadata": {},
   "outputs": [],
   "source": [
    "teams_df = pd.DataFrame(teams)\n",
    "teams_df.head()"
   ]
  }
 ],
 "metadata": {
  "kernelspec": {
   "display_name": "Python 3 (ipykernel)",
   "language": "python",
   "name": "python3"
  },
  "language_info": {
   "codemirror_mode": {
    "name": "ipython",
    "version": 3
   },
   "file_extension": ".py",
   "mimetype": "text/x-python",
   "name": "python",
   "nbconvert_exporter": "python",
   "pygments_lexer": "ipython3",
   "version": "3.10.6"
  },
  "toc": {
   "base_numbering": 1,
   "nav_menu": {},
   "number_sections": true,
   "sideBar": true,
   "skip_h1_title": false,
   "title_cell": "Table of Contents",
   "title_sidebar": "Contents",
   "toc_cell": false,
   "toc_position": {},
   "toc_section_display": true,
   "toc_window_display": false
  }
 },
 "nbformat": 4,
 "nbformat_minor": 5
}
